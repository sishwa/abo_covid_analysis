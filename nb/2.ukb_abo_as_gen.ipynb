{
 "cells": [
  {
   "cell_type": "markdown",
   "metadata": {},
   "source": [
    "# Format ABO groups as derived genotypes\n",
    "\n",
    "Written to `.gen` file format as it appears one of the simplest Plink-compatible formats."
   ]
  },
  {
   "cell_type": "code",
   "execution_count": 1,
   "metadata": {},
   "outputs": [],
   "source": [
    "import pandas as pd"
   ]
  },
  {
   "cell_type": "code",
   "execution_count": 2,
   "metadata": {},
   "outputs": [],
   "source": [
    "blood_groups_df = pd.read_csv('blood_groups.tsv', sep='\\t')"
   ]
  },
  {
   "cell_type": "markdown",
   "metadata": {},
   "source": [
    "## 1. Make `.gen` file\n",
    "\n",
    "https://www.cog-genomics.org/plink/1.9/formats#gen"
   ]
  },
  {
   "cell_type": "code",
   "execution_count": 3,
   "metadata": {},
   "outputs": [],
   "source": [
    "gen_df = (\n",
    "    blood_groups_df\n",
    "    .filter(items=['IID', 'A', 'AB', 'B', 'O'])\n",
    "    .set_index('IID')\n",
    "    .stack()\n",
    "    .reset_index()\n",
    "    .rename(columns={'level_1': 'RSID', 0: 'A1_homo'})\n",
    "    .assign(\n",
    "        A1 = 'BG',\n",
    "        A2 = 'NBG',\n",
    "        BP = 1,\n",
    "        A2_hetero = 0,\n",
    "        A2_homo = lambda df: 1 - df['A1_homo'],\n",
    "        CHR = 9\n",
    "    )\n",
    "    .pivot_table(index=['CHR', 'RSID', 'BP', 'A1', 'A2'], columns=['IID'], \n",
    "                 values=['A1_homo', 'A2_hetero', 'A2_homo'])\n",
    "    .swaplevel(0, 1, axis=1)\n",
    "    .sort_index(axis=1)\n",
    ")\n",
    "\n",
    "gen_df.columns = ['_'.join(map(str, col)).strip() for col in gen_df.columns.values]\n",
    "\n",
    "gen_df = gen_df.reset_index()\n",
    "\n",
    "# Get IIDs in the correct order\n",
    "iid_order = [int(name.split('_')[0]) for name in gen_df.columns if '_A1_homo' in name]"
   ]
  },
  {
   "cell_type": "code",
   "execution_count": 4,
   "metadata": {},
   "outputs": [],
   "source": [
    "gen_df.to_csv('../data/ukb_cov_tested.gen', sep='\\t')"
   ]
  },
  {
   "cell_type": "markdown",
   "metadata": {},
   "source": [
    "## 2. Make `.sample` file\n",
    "\n",
    "https://www.cog-genomics.org/plink/1.9/formats#sample"
   ]
  },
  {
   "cell_type": "code",
   "execution_count": 5,
   "metadata": {},
   "outputs": [],
   "source": [
    "extra_header = pd.DataFrame({'ID_1': [0], 'ID_2': [0], 'missing': [0], 'sex': ['D'], 'phenotype': ['B']})"
   ]
  },
  {
   "cell_type": "code",
   "execution_count": 6,
   "metadata": {},
   "outputs": [],
   "source": [
    "sample_df = (\n",
    "    blood_groups_df\n",
    "    .drop(labels=['A', 'AB', 'B', 'O'], axis=1)\n",
    "    # Order according to the .gen file\n",
    "    .set_index('IID')\n",
    "    .loc[iid_order, :]\n",
    "    .reset_index()\n",
    "    # Format as .sample file\n",
    "    .assign(missing = 0)\n",
    "    .rename(columns={'FID': 'ID_1', 'IID': 'ID_2', 'SEX': 'sex', 'infection': 'phenotype'})\n",
    "    .pipe(lambda df: pd.concat([extra_header, df]))\n",
    ")"
   ]
  },
  {
   "cell_type": "code",
   "execution_count": 7,
   "metadata": {},
   "outputs": [],
   "source": [
    "sample_df.to_csv('../data/ukb_cov_tested.sample', sep='\\t')"
   ]
  }
 ],
 "metadata": {
  "kernelspec": {
   "display_name": "Python [conda env:nsides] *",
   "language": "python",
   "name": "conda-env-nsides-py"
  },
  "language_info": {
   "codemirror_mode": {
    "name": "ipython",
    "version": 3
   },
   "file_extension": ".py",
   "mimetype": "text/x-python",
   "name": "python",
   "nbconvert_exporter": "python",
   "pygments_lexer": "ipython3",
   "version": "3.7.3"
  }
 },
 "nbformat": 4,
 "nbformat_minor": 2
}
