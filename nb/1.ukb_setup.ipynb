{
 "cells": [
  {
   "cell_type": "markdown",
   "metadata": {},
   "source": [
    "# UK Biobank COVID-19 data\n",
    "\n",
    "http://biobank.ndph.ox.ac.uk/ukb/exinfo.cgi?src=COVID19_tests"
   ]
  },
  {
   "cell_type": "code",
   "execution_count": 1,
   "metadata": {},
   "outputs": [
    {
     "name": "stderr",
     "output_type": "stream",
     "text": [
      "── Attaching packages ─────────────────────────────────────── tidyverse 1.2.1 ──\n",
      "✔ ggplot2 3.3.0           ✔ purrr   0.3.4      \n",
      "✔ tibble  3.0.1           ✔ dplyr   0.8.99.9003\n",
      "✔ tidyr   1.0.0           ✔ stringr 1.4.0      \n",
      "✔ readr   1.3.1           ✔ forcats 0.4.0      \n",
      "── Conflicts ────────────────────────────────────────── tidyverse_conflicts() ──\n",
      "✖ dplyr::filter() masks stats::filter()\n",
      "✖ dplyr::lag()    masks stats::lag()\n"
     ]
    }
   ],
   "source": [
    "library(tidyverse)"
   ]
  },
  {
   "cell_type": "markdown",
   "metadata": {},
   "source": [
    "## 1. Assign blood groups\n",
    "\n",
    "We adapted the mapping reported by Melzer et al. (https://doi.org/10.1371/journal.pgen.1000072)\n",
    "\n",
    "### Variant identities\n",
    "\n",
    "| RSID | UKBB | Melzer et al. |\n",
    "| ---- | ---- | ------------- |\n",
    "| rs8176746 | G > T | C > A |\n",
    "| rs8176719 | T > TC | del G |\n",
    "\n",
    "### Variant map\n",
    "\n",
    "rs8176746  rs8176719\n",
    "\n",
    "| Melzer et al. | UKBB | rs8176746_G / rs8176719_T | Phenotype |\n",
    "| ------------- | ---- | -------| --------- |\n",
    "| C/C del/del | G/G T/T | 2 / 2 | O |\n",
    "| C/C del/G | G/G T/TC | 2 / 1 | A |\n",
    "| C/C G/G | G/G TC/TC | 2 / 0 | A |\n",
    "| C/A del/del | G/T T/T | 1 / 2 | O |\n",
    "| A/A G/G | T/T TC/TC | 0 / 0 | B |\n",
    "| C/A del/G | G/T T/TC | 1 / 1 | B |\n",
    "| C/A G/G | G/T TC/TC | 1 / 0 | AB |"
   ]
  },
  {
   "cell_type": "code",
   "execution_count": 2,
   "metadata": {},
   "outputs": [],
   "source": [
    "imputed_genotypes <- read_tsv('../ukbb/imputed_genotypes.raw', col_types = cols(.default = col_double())) %>%\n",
    "    select(FID, IID, SEX, rs8176746_G, rs8176719_T)"
   ]
  },
  {
   "cell_type": "code",
   "execution_count": 3,
   "metadata": {},
   "outputs": [
    {
     "data": {
      "text/html": [
       "<table>\n",
       "<caption>A tibble: 0 × 7</caption>\n",
       "<thead>\n",
       "\t<tr><th scope=col>FID</th><th scope=col>IID</th><th scope=col>SEX</th><th scope=col>genotypes</th><th scope=col>rs8176746_G</th><th scope=col>rs8176719_T</th><th scope=col>blood_group</th></tr>\n",
       "\t<tr><th scope=col>&lt;dbl&gt;</th><th scope=col>&lt;dbl&gt;</th><th scope=col>&lt;dbl&gt;</th><th scope=col>&lt;chr&gt;</th><th scope=col>&lt;dbl&gt;</th><th scope=col>&lt;dbl&gt;</th><th scope=col>&lt;chr&gt;</th></tr>\n",
       "</thead>\n",
       "<tbody>\n",
       "</tbody>\n",
       "</table>\n"
      ],
      "text/latex": [
       "A tibble: 0 × 7\n",
       "\\begin{tabular}{r|lllllll}\n",
       " FID & IID & SEX & genotypes & rs8176746\\_G & rs8176719\\_T & blood\\_group\\\\\n",
       " <dbl> & <dbl> & <dbl> & <chr> & <dbl> & <dbl> & <chr>\\\\\n",
       "\\hline\n",
       "\\end{tabular}\n"
      ],
      "text/markdown": [
       "\n",
       "A tibble: 0 × 7\n",
       "\n",
       "| FID &lt;dbl&gt; | IID &lt;dbl&gt; | SEX &lt;dbl&gt; | genotypes &lt;chr&gt; | rs8176746_G &lt;dbl&gt; | rs8176719_T &lt;dbl&gt; | blood_group &lt;chr&gt; |\n",
       "|---|---|---|---|---|---|---|\n",
       "\n"
      ],
      "text/plain": [
       "     FID IID SEX genotypes rs8176746_G rs8176719_T blood_group"
      ]
     },
     "metadata": {},
     "output_type": "display_data"
    },
    {
     "data": {
      "text/html": [
       "<table>\n",
       "<caption>A tibble: 5 × 2</caption>\n",
       "<thead>\n",
       "\t<tr><th scope=col>blood_group</th><th scope=col>n</th></tr>\n",
       "\t<tr><th scope=col>&lt;chr&gt;</th><th scope=col>&lt;int&gt;</th></tr>\n",
       "</thead>\n",
       "<tbody>\n",
       "\t<tr><td>A    </td><td>211478</td></tr>\n",
       "\t<tr><td>AB   </td><td> 17642</td></tr>\n",
       "\t<tr><td>B    </td><td> 46860</td></tr>\n",
       "\t<tr><td>O    </td><td>210925</td></tr>\n",
       "\t<tr><td>Other</td><td>   137</td></tr>\n",
       "</tbody>\n",
       "</table>\n"
      ],
      "text/latex": [
       "A tibble: 5 × 2\n",
       "\\begin{tabular}{r|ll}\n",
       " blood\\_group & n\\\\\n",
       " <chr> & <int>\\\\\n",
       "\\hline\n",
       "\t A     & 211478\\\\\n",
       "\t AB    &  17642\\\\\n",
       "\t B     &  46860\\\\\n",
       "\t O     & 210925\\\\\n",
       "\t Other &    137\\\\\n",
       "\\end{tabular}\n"
      ],
      "text/markdown": [
       "\n",
       "A tibble: 5 × 2\n",
       "\n",
       "| blood_group &lt;chr&gt; | n &lt;int&gt; |\n",
       "|---|---|\n",
       "| A     | 211478 |\n",
       "| AB    |  17642 |\n",
       "| B     |  46860 |\n",
       "| O     | 210925 |\n",
       "| Other |    137 |\n",
       "\n"
      ],
      "text/plain": [
       "  blood_group n     \n",
       "1 A           211478\n",
       "2 AB           17642\n",
       "3 B            46860\n",
       "4 O           210925\n",
       "5 Other          137"
      ]
     },
     "metadata": {},
     "output_type": "display_data"
    }
   ],
   "source": [
    "snps_to_blood_group <- list(\n",
    "    '2 / 2' = 'O',\n",
    "    '2 / 1' = 'A',\n",
    "    '2 / 0' = 'A',\n",
    "    '1 / 2' = 'O',\n",
    "    '1 / 1' = 'B',\n",
    "    '1 / 0' = 'AB',\n",
    "    '0 / 0' = 'B'\n",
    ")\n",
    "\n",
    "ukb_blood_groups <- imputed_genotypes %>%\n",
    "    unite('genotypes', c(rs8176746_G, rs8176719_T), remove = F, sep = ' / ') %>%\n",
    "    mutate(blood_group = genotypes %>% recode(!!!snps_to_blood_group, .default = 'Other'))\n",
    "\n",
    "ukb_blood_groups %>% head(0)\n",
    "\n",
    "ukb_blood_groups %>% \n",
    "    group_by(blood_group) %>%\n",
    "    tally\n",
    "\n",
    "ukb_inferred_bg <- ukb_blood_groups %>%\n",
    "    select(FID, IID, SEX, blood_group)"
   ]
  },
  {
   "cell_type": "markdown",
   "metadata": {},
   "source": [
    "## 2. SARS-CoV-2 infection status"
   ]
  },
  {
   "cell_type": "code",
   "execution_count": 4,
   "metadata": {},
   "outputs": [],
   "source": [
    "# Infection test results are stored in MySQL database\n",
    "con <- DBI::dbConnect(\n",
    "    RMariaDB::MariaDB(),\n",
    "    host = \"localhost\",\n",
    "    user = \"mnz2108\",\n",
    "    dbname = \"clinical_ukbb\",\n",
    "    password = read_file('../mysql_password.txt') %>% str_replace('\\n', '')\n",
    ")"
   ]
  },
  {
   "cell_type": "code",
   "execution_count": 5,
   "metadata": {},
   "outputs": [
    {
     "data": {
      "text/html": [
       "5356"
      ],
      "text/latex": [
       "5356"
      ],
      "text/markdown": [
       "5356"
      ],
      "text/plain": [
       "[1] 5356"
      ]
     },
     "metadata": {},
     "output_type": "display_data"
    },
    {
     "data": {
      "text/html": [
       "<table>\n",
       "<caption>A tibble: 0 × 6</caption>\n",
       "<thead>\n",
       "\t<tr><th scope=col>eid</th><th scope=col>specdate</th><th scope=col>spectype</th><th scope=col>laboratory</th><th scope=col>origin</th><th scope=col>result</th></tr>\n",
       "\t<tr><th scope=col>&lt;int&gt;</th><th scope=col>&lt;chr&gt;</th><th scope=col>&lt;int&gt;</th><th scope=col>&lt;int&gt;</th><th scope=col>&lt;int&gt;</th><th scope=col>&lt;int&gt;</th></tr>\n",
       "</thead>\n",
       "<tbody>\n",
       "</tbody>\n",
       "</table>\n"
      ],
      "text/latex": [
       "A tibble: 0 × 6\n",
       "\\begin{tabular}{r|llllll}\n",
       " eid & specdate & spectype & laboratory & origin & result\\\\\n",
       " <int> & <chr> & <int> & <int> & <int> & <int>\\\\\n",
       "\\hline\n",
       "\\end{tabular}\n"
      ],
      "text/markdown": [
       "\n",
       "A tibble: 0 × 6\n",
       "\n",
       "| eid &lt;int&gt; | specdate &lt;chr&gt; | spectype &lt;int&gt; | laboratory &lt;int&gt; | origin &lt;int&gt; | result &lt;int&gt; |\n",
       "|---|---|---|---|---|---|\n",
       "\n"
      ],
      "text/plain": [
       "     eid specdate spectype laboratory origin result"
      ]
     },
     "metadata": {},
     "output_type": "display_data"
    }
   ],
   "source": [
    "ukb_cov_tests <- con %>% tbl('covid19_result_050720') %>% as_tibble\n",
    "\n",
    "ukb_cov_tests %>% nrow\n",
    "ukb_cov_tests %>% head(0)"
   ]
  },
  {
   "cell_type": "markdown",
   "metadata": {},
   "source": [
    "## 3. Combine information sources"
   ]
  },
  {
   "cell_type": "code",
   "execution_count": 6,
   "metadata": {},
   "outputs": [
    {
     "data": {
      "text/html": [
       "<table>\n",
       "<caption>A tibble: 0 × 7</caption>\n",
       "<thead>\n",
       "\t<tr><th scope=col>FID</th><th scope=col>IID</th><th scope=col>SEX</th><th scope=col>blood_group</th><th scope=col>result</th><th scope=col>cov_tested</th><th scope=col>cohort</th></tr>\n",
       "\t<tr><th scope=col>&lt;dbl&gt;</th><th scope=col>&lt;dbl&gt;</th><th scope=col>&lt;dbl&gt;</th><th scope=col>&lt;chr&gt;</th><th scope=col>&lt;dbl&gt;</th><th scope=col>&lt;int&gt;</th><th scope=col>&lt;chr&gt;</th></tr>\n",
       "</thead>\n",
       "<tbody>\n",
       "</tbody>\n",
       "</table>\n"
      ],
      "text/latex": [
       "A tibble: 0 × 7\n",
       "\\begin{tabular}{r|lllllll}\n",
       " FID & IID & SEX & blood\\_group & result & cov\\_tested & cohort\\\\\n",
       " <dbl> & <dbl> & <dbl> & <chr> & <dbl> & <int> & <chr>\\\\\n",
       "\\hline\n",
       "\\end{tabular}\n"
      ],
      "text/markdown": [
       "\n",
       "A tibble: 0 × 7\n",
       "\n",
       "| FID &lt;dbl&gt; | IID &lt;dbl&gt; | SEX &lt;dbl&gt; | blood_group &lt;chr&gt; | result &lt;dbl&gt; | cov_tested &lt;int&gt; | cohort &lt;chr&gt; |\n",
       "|---|---|---|---|---|---|---|\n",
       "\n"
      ],
      "text/plain": [
       "     FID IID SEX blood_group result cov_tested cohort"
      ]
     },
     "metadata": {},
     "output_type": "display_data"
    }
   ],
   "source": [
    "blood_groups_cov_info_df <- ukb_inferred_bg %>% \n",
    "    left_join(ukb_cov_tests, by = c('IID' = 'eid')) %>%\n",
    "    select(FID, IID, SEX, blood_group, result) %>%\n",
    "    mutate(cov_tested = as.integer(!is.na(result))) %>%\n",
    "    replace_na(list(result = 0)) %>%\n",
    "    group_by(IID) %>%\n",
    "    filter(result == max(result), blood_group != 'Other') %>%\n",
    "    filter(row_number() == 1) %>%\n",
    "    ungroup %>%\n",
    "    mutate(cohort = if_else(result == 1, 'cov_pos', if_else(cov_tested == 1, 'cov_neg', 'general_pop')))\n",
    "\n",
    "blood_groups_cov_info_df %>% head(0)"
   ]
  },
  {
   "cell_type": "markdown",
   "metadata": {},
   "source": [
    "## 4. Contingency table for meta-analysis"
   ]
  },
  {
   "cell_type": "code",
   "execution_count": 7,
   "metadata": {
    "scrolled": true
   },
   "outputs": [
    {
     "data": {
      "text/html": [
       "<table>\n",
       "<caption>A tibble: 4 × 4</caption>\n",
       "<thead>\n",
       "\t<tr><th scope=col>blood_group</th><th scope=col>cov_pos</th><th scope=col>cov_neg</th><th scope=col>general_pop</th></tr>\n",
       "\t<tr><th scope=col>&lt;chr&gt;</th><th scope=col>&lt;int&gt;</th><th scope=col>&lt;int&gt;</th><th scope=col>&lt;int&gt;</th></tr>\n",
       "</thead>\n",
       "<tbody>\n",
       "\t<tr><td>A </td><td>466</td><td>830</td><td>210182</td></tr>\n",
       "\t<tr><td>AB</td><td> 40</td><td> 54</td><td> 17548</td></tr>\n",
       "\t<tr><td>B </td><td>110</td><td>187</td><td> 46563</td></tr>\n",
       "\t<tr><td>O </td><td>412</td><td>761</td><td>209752</td></tr>\n",
       "</tbody>\n",
       "</table>\n"
      ],
      "text/latex": [
       "A tibble: 4 × 4\n",
       "\\begin{tabular}{r|llll}\n",
       " blood\\_group & cov\\_pos & cov\\_neg & general\\_pop\\\\\n",
       " <chr> & <int> & <int> & <int>\\\\\n",
       "\\hline\n",
       "\t A  & 466 & 830 & 210182\\\\\n",
       "\t AB &  40 &  54 &  17548\\\\\n",
       "\t B  & 110 & 187 &  46563\\\\\n",
       "\t O  & 412 & 761 & 209752\\\\\n",
       "\\end{tabular}\n"
      ],
      "text/markdown": [
       "\n",
       "A tibble: 4 × 4\n",
       "\n",
       "| blood_group &lt;chr&gt; | cov_pos &lt;int&gt; | cov_neg &lt;int&gt; | general_pop &lt;int&gt; |\n",
       "|---|---|---|---|\n",
       "| A  | 466 | 830 | 210182 |\n",
       "| AB |  40 |  54 |  17548 |\n",
       "| B  | 110 | 187 |  46563 |\n",
       "| O  | 412 | 761 | 209752 |\n",
       "\n"
      ],
      "text/plain": [
       "  blood_group cov_pos cov_neg general_pop\n",
       "1 A           466     830     210182     \n",
       "2 AB           40      54      17548     \n",
       "3 B           110     187      46563     \n",
       "4 O           412     761     209752     "
      ]
     },
     "metadata": {},
     "output_type": "display_data"
    }
   ],
   "source": [
    "contingency <- blood_groups_cov_info_df %>%\n",
    "    group_by(blood_group, cohort) %>%\n",
    "    tally %>%\n",
    "    ungroup %>%\n",
    "    pivot_wider(names_from = cohort, values_from = n) %>%\n",
    "    select(blood_group, cov_pos, cov_neg, general_pop)\n",
    "\n",
    "contingency %>% write_tsv('../data/ukb_2020-05-07.tsv')\n",
    "\n",
    "contingency"
   ]
  },
  {
   "cell_type": "markdown",
   "metadata": {},
   "source": [
    "## 5. Export to create genetic files\n",
    "\n",
    "`.gen` and `.sample` files are created in the next notebook using the table exported here."
   ]
  },
  {
   "cell_type": "code",
   "execution_count": 8,
   "metadata": {},
   "outputs": [],
   "source": [
    "genetic_analysis_cohort_df <- blood_groups_cov_info_df %>%\n",
    "    filter(cov_tested == 1) %>%\n",
    "    pivot_wider(id_cols = c(FID, IID, SEX, result), names_from = blood_group, values_from = cov_tested,\n",
    "                values_fill = list(cov_tested = 0)) %>%\n",
    "    rename(infection = result)\n",
    "\n",
    "genetic_analysis_cohort_df %>% write_tsv('blood_groups.tsv')"
   ]
  }
 ],
 "metadata": {
  "kernelspec": {
   "display_name": "R [conda env:nsides] *",
   "language": "R",
   "name": "conda-env-nsides-r"
  },
  "language_info": {
   "codemirror_mode": "r",
   "file_extension": ".r",
   "mimetype": "text/x-r-source",
   "name": "R",
   "pygments_lexer": "r",
   "version": "3.5.1"
  }
 },
 "nbformat": 4,
 "nbformat_minor": 2
}
